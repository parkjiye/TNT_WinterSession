{
  "nbformat": 4,
  "nbformat_minor": 0,
  "metadata": {
    "colab": {
      "name": "릿지&라쏘&엘라스틱넷.ipynb",
      "provenance": [],
      "collapsed_sections": [],
      "toc_visible": true,
      "authorship_tag": "ABX9TyOLCL71ALobILlKpnXkDI/W",
      "include_colab_link": true
    },
    "kernelspec": {
      "name": "python3",
      "display_name": "Python 3"
    }
  },
  "cells": [
    {
      "cell_type": "markdown",
      "metadata": {
        "id": "view-in-github",
        "colab_type": "text"
      },
      "source": [
        "<a href=\"https://colab.research.google.com/github/parkjiye/TNT_WinterSession/blob/main/%EB%A6%BF%EC%A7%80%26%EB%9D%BC%EC%8F%98%26%EC%97%98%EB%9D%BC%EC%8A%A4%ED%8B%B1%EB%84%B7.ipynb\" target=\"_parent\"><img src=\"https://colab.research.google.com/assets/colab-badge.svg\" alt=\"Open In Colab\"/></a>"
      ]
    },
    {
      "cell_type": "code",
      "metadata": {
        "colab": {
          "base_uri": "https://localhost:8080/"
        },
        "id": "TjGOlSdHIqdD",
        "outputId": "73f855ed-a5b8-4523-83c1-c4c3758fb695"
      },
      "source": [
        "pip install mglearn"
      ],
      "execution_count": null,
      "outputs": [
        {
          "output_type": "stream",
          "text": [
            "Collecting mglearn\n",
            "\u001b[?25l  Downloading https://files.pythonhosted.org/packages/65/38/8aced26fce0b2ae82c3c87cd3b6105f38ca6d9d51704ecc44aa54473e6b9/mglearn-0.1.9.tar.gz (540kB)\n",
            "\r\u001b[K     |▋                               | 10kB 15.7MB/s eta 0:00:01\r\u001b[K     |█▏                              | 20kB 20.7MB/s eta 0:00:01\r\u001b[K     |█▉                              | 30kB 25.3MB/s eta 0:00:01\r\u001b[K     |██▍                             | 40kB 16.8MB/s eta 0:00:01\r\u001b[K     |███                             | 51kB 8.2MB/s eta 0:00:01\r\u001b[K     |███▋                            | 61kB 9.1MB/s eta 0:00:01\r\u001b[K     |████▎                           | 71kB 10.2MB/s eta 0:00:01\r\u001b[K     |████▉                           | 81kB 9.8MB/s eta 0:00:01\r\u001b[K     |█████▌                          | 92kB 10.4MB/s eta 0:00:01\r\u001b[K     |██████                          | 102kB 8.0MB/s eta 0:00:01\r\u001b[K     |██████▊                         | 112kB 8.0MB/s eta 0:00:01\r\u001b[K     |███████▎                        | 122kB 8.0MB/s eta 0:00:01\r\u001b[K     |███████▉                        | 133kB 8.0MB/s eta 0:00:01\r\u001b[K     |████████▌                       | 143kB 8.0MB/s eta 0:00:01\r\u001b[K     |█████████                       | 153kB 8.0MB/s eta 0:00:01\r\u001b[K     |█████████▊                      | 163kB 8.0MB/s eta 0:00:01\r\u001b[K     |██████████▎                     | 174kB 8.0MB/s eta 0:00:01\r\u001b[K     |███████████                     | 184kB 8.0MB/s eta 0:00:01\r\u001b[K     |███████████▌                    | 194kB 8.0MB/s eta 0:00:01\r\u001b[K     |████████████▏                   | 204kB 8.0MB/s eta 0:00:01\r\u001b[K     |████████████▊                   | 215kB 8.0MB/s eta 0:00:01\r\u001b[K     |█████████████▍                  | 225kB 8.0MB/s eta 0:00:01\r\u001b[K     |██████████████                  | 235kB 8.0MB/s eta 0:00:01\r\u001b[K     |██████████████▋                 | 245kB 8.0MB/s eta 0:00:01\r\u001b[K     |███████████████▏                | 256kB 8.0MB/s eta 0:00:01\r\u001b[K     |███████████████▊                | 266kB 8.0MB/s eta 0:00:01\r\u001b[K     |████████████████▍               | 276kB 8.0MB/s eta 0:00:01\r\u001b[K     |█████████████████               | 286kB 8.0MB/s eta 0:00:01\r\u001b[K     |█████████████████▋              | 296kB 8.0MB/s eta 0:00:01\r\u001b[K     |██████████████████▏             | 307kB 8.0MB/s eta 0:00:01\r\u001b[K     |██████████████████▉             | 317kB 8.0MB/s eta 0:00:01\r\u001b[K     |███████████████████▍            | 327kB 8.0MB/s eta 0:00:01\r\u001b[K     |████████████████████            | 337kB 8.0MB/s eta 0:00:01\r\u001b[K     |████████████████████▋           | 348kB 8.0MB/s eta 0:00:01\r\u001b[K     |█████████████████████▎          | 358kB 8.0MB/s eta 0:00:01\r\u001b[K     |█████████████████████▉          | 368kB 8.0MB/s eta 0:00:01\r\u001b[K     |██████████████████████▌         | 378kB 8.0MB/s eta 0:00:01\r\u001b[K     |███████████████████████         | 389kB 8.0MB/s eta 0:00:01\r\u001b[K     |███████████████████████▋        | 399kB 8.0MB/s eta 0:00:01\r\u001b[K     |████████████████████████▎       | 409kB 8.0MB/s eta 0:00:01\r\u001b[K     |████████████████████████▉       | 419kB 8.0MB/s eta 0:00:01\r\u001b[K     |█████████████████████████▌      | 430kB 8.0MB/s eta 0:00:01\r\u001b[K     |██████████████████████████      | 440kB 8.0MB/s eta 0:00:01\r\u001b[K     |██████████████████████████▊     | 450kB 8.0MB/s eta 0:00:01\r\u001b[K     |███████████████████████████▎    | 460kB 8.0MB/s eta 0:00:01\r\u001b[K     |████████████████████████████    | 471kB 8.0MB/s eta 0:00:01\r\u001b[K     |████████████████████████████▌   | 481kB 8.0MB/s eta 0:00:01\r\u001b[K     |█████████████████████████████▏  | 491kB 8.0MB/s eta 0:00:01\r\u001b[K     |█████████████████████████████▊  | 501kB 8.0MB/s eta 0:00:01\r\u001b[K     |██████████████████████████████▍ | 512kB 8.0MB/s eta 0:00:01\r\u001b[K     |███████████████████████████████ | 522kB 8.0MB/s eta 0:00:01\r\u001b[K     |███████████████████████████████▌| 532kB 8.0MB/s eta 0:00:01\r\u001b[K     |████████████████████████████████| 542kB 8.0MB/s \n",
            "\u001b[?25hRequirement already satisfied: numpy in /usr/local/lib/python3.6/dist-packages (from mglearn) (1.19.4)\n",
            "Requirement already satisfied: matplotlib in /usr/local/lib/python3.6/dist-packages (from mglearn) (3.2.2)\n",
            "Requirement already satisfied: scikit-learn in /usr/local/lib/python3.6/dist-packages (from mglearn) (0.22.2.post1)\n",
            "Requirement already satisfied: pandas in /usr/local/lib/python3.6/dist-packages (from mglearn) (1.1.5)\n",
            "Requirement already satisfied: pillow in /usr/local/lib/python3.6/dist-packages (from mglearn) (7.0.0)\n",
            "Requirement already satisfied: cycler in /usr/local/lib/python3.6/dist-packages (from mglearn) (0.10.0)\n",
            "Requirement already satisfied: imageio in /usr/local/lib/python3.6/dist-packages (from mglearn) (2.4.1)\n",
            "Requirement already satisfied: joblib in /usr/local/lib/python3.6/dist-packages (from mglearn) (1.0.0)\n",
            "Requirement already satisfied: python-dateutil>=2.1 in /usr/local/lib/python3.6/dist-packages (from matplotlib->mglearn) (2.8.1)\n",
            "Requirement already satisfied: kiwisolver>=1.0.1 in /usr/local/lib/python3.6/dist-packages (from matplotlib->mglearn) (1.3.1)\n",
            "Requirement already satisfied: pyparsing!=2.0.4,!=2.1.2,!=2.1.6,>=2.0.1 in /usr/local/lib/python3.6/dist-packages (from matplotlib->mglearn) (2.4.7)\n",
            "Requirement already satisfied: scipy>=0.17.0 in /usr/local/lib/python3.6/dist-packages (from scikit-learn->mglearn) (1.4.1)\n",
            "Requirement already satisfied: pytz>=2017.2 in /usr/local/lib/python3.6/dist-packages (from pandas->mglearn) (2018.9)\n",
            "Requirement already satisfied: six in /usr/local/lib/python3.6/dist-packages (from cycler->mglearn) (1.15.0)\n",
            "Building wheels for collected packages: mglearn\n",
            "  Building wheel for mglearn (setup.py) ... \u001b[?25l\u001b[?25hdone\n",
            "  Created wheel for mglearn: filename=mglearn-0.1.9-py2.py3-none-any.whl size=582638 sha256=862a4a6aa772459edec2d6b7a99c3ee3c18b0b46f8b9f6c8eefa9c3ed87cdbd2\n",
            "  Stored in directory: /root/.cache/pip/wheels/eb/a6/ea/a6a3716233fa62fc561259b5cb1e28f79e9ff3592c0adac5f0\n",
            "Successfully built mglearn\n",
            "Installing collected packages: mglearn\n",
            "Successfully installed mglearn-0.1.9\n"
          ],
          "name": "stdout"
        }
      ]
    },
    {
      "cell_type": "markdown",
      "metadata": {
        "id": "huP5x92FPDYM"
      },
      "source": [
        "# **데이터 셋 불러오기 - Boston 주택가격 데이터셋**"
      ]
    },
    {
      "cell_type": "code",
      "metadata": {
        "id": "0eG_PdZ2IAVq"
      },
      "source": [
        "import mglearn\r\n",
        "\r\n",
        "from sklearn.datasets import load_boston\r\n",
        "boston=load_boston()"
      ],
      "execution_count": null,
      "outputs": []
    },
    {
      "cell_type": "code",
      "metadata": {
        "colab": {
          "base_uri": "https://localhost:8080/"
        },
        "id": "wtUZflodI7F-",
        "outputId": "d59c08ac-a7d9-4773-ffeb-bcbabd2f368a"
      },
      "source": [
        "#데이터셋을 만듭니다\r\n",
        "X,y=mglearn.datasets.load_extended_boston()\r\n",
        "\r\n",
        "print(\"Xshape:{}\".format(X.shape))"
      ],
      "execution_count": null,
      "outputs": [
        {
          "output_type": "stream",
          "text": [
            "Xshape:(506, 104)\n"
          ],
          "name": "stdout"
        }
      ]
    },
    {
      "cell_type": "markdown",
      "metadata": {
        "id": "1t96_jS_KHU3"
      },
      "source": [
        "506개의 샘플과 104개의 특성"
      ]
    },
    {
      "cell_type": "markdown",
      "metadata": {
        "id": "aMCraMKBPNQ5"
      },
      "source": [
        "# **01. 선형회귀 모델로 성능 확인하기**"
      ]
    },
    {
      "cell_type": "code",
      "metadata": {
        "colab": {
          "base_uri": "https://localhost:8080/"
        },
        "id": "1-Uncu_hJL4L",
        "outputId": "c6dde2d4-aa34-4c9d-fd9a-e6a9416116cf"
      },
      "source": [
        "from sklearn.linear_model import LinearRegression\r\n",
        "from sklearn.model_selection import train_test_split\r\n",
        "\r\n",
        "X,y = mglearn.datasets.load_extended_boston()\r\n",
        "X_train, X_test, y_train, y_test = train_test_split(X, y, random_state=42)\r\n",
        "lr = LinearRegression().fit(X_train, y_train)\r\n",
        "\r\n",
        "# 기울기 파라미터(w)는 가중치/계수라고 하며 coef_속성에 저장되어있다.\r\n",
        "# 파라미터b는 편향/절편 값은 intercept_속성에 저장되어있다.\r\n",
        "\r\n",
        "print(\"lr.coef_: {}\".format(lr.coef_))\r\n",
        "print(\"lr.intercept_ : {}\".format(lr.intercept_))\r\n",
        "\r\n",
        "print(\"훈련 세트의 정확도 : {:.2f}\".format(lr.score(X_train,y_train)))\r\n",
        "print(\"테스트 세트의 정확도 : {:.2f}\".format(lr.score(X_test,y_test)))"
      ],
      "execution_count": null,
      "outputs": [
        {
          "output_type": "stream",
          "text": [
            "lr.coef_: [-5.11126504e+02  4.02559787e+00 -9.45778613e+01  1.34720251e+01\n",
            "  3.48176257e+01  6.03611391e+01  3.49707471e+01  2.94114542e+00\n",
            "  3.14525465e+00  8.20792132e+01  1.24254396e+01  3.86676075e+01\n",
            " -9.38409521e-01  1.32936334e+01  7.60317098e+02  1.42274855e+03\n",
            "  2.29220565e+02 -7.79405429e+01  8.79429261e+01  1.39813973e+01\n",
            "  1.02565346e+02  7.52178879e+02 -1.82071934e+03  5.34143172e+02\n",
            " -2.41122305e+01  1.11848898e+02 -4.38177813e+00 -1.23079894e+01\n",
            " -3.63360790e+00 -5.64878037e+01  4.60395879e-01  8.18005986e+00\n",
            " -2.06294404e+01 -3.49659791e+01  4.31717988e+01 -2.92220843e+00\n",
            "  1.45250942e+01 -3.24346333e+01  3.66984591e+01 -2.75859278e+00\n",
            "  6.27805740e+00  4.98379104e+01  6.55060318e+00  3.91047481e+01\n",
            " -1.14826290e+01 -8.00990322e-01 -3.68662287e+00  3.36483260e+01\n",
            " -1.49103502e+01  1.34720251e+01 -1.80244019e+01 -2.90956806e+01\n",
            " -2.78115796e+00 -1.10315060e+01  1.15584830e+00 -8.37313259e-01\n",
            " -7.89905136e+00  6.27950290e+00 -1.09538327e+01 -2.48389637e+01\n",
            " -1.16316264e+01 -3.00228631e+00  6.83518378e+01 -1.76428626e+01\n",
            "  6.10371772e+01 -6.12936496e+01 -1.14748321e+01  2.09075528e+01\n",
            "  3.32421356e+01 -4.11743268e+01 -2.19312422e+01 -2.08881337e+01\n",
            " -5.05858326e+01 -2.14714962e+01 -1.11593182e+01 -6.16458839e-01\n",
            " -1.12569338e+00 -1.40290786e-01  3.17622544e+01 -2.57159897e+01\n",
            "  5.51837314e-01 -1.33768644e+01 -3.25170630e+01  5.20806824e+01\n",
            "  1.08614313e-01 -3.62670514e+01 -2.68217433e+01 -3.42720513e+01\n",
            "  1.41341012e+01 -6.56371258e+01  8.64151127e+01 -3.08281756e+01\n",
            "  3.61562583e+01 -2.56736318e+01 -1.69118913e+01  3.35683331e+01\n",
            " -7.48792540e+01 -2.02885460e+01  3.35543349e+00  1.07705825e+01\n",
            "  3.50306579e+00 -5.10021527e+00  2.46929457e+00  2.55749022e+01]\n",
            "lr.intercept_ : -34.70752210387346\n",
            "훈련 세트의 정확도 : 0.94\n",
            "테스트 세트의 정확도 : 0.78\n"
          ],
          "name": "stdout"
        }
      ]
    },
    {
      "cell_type": "markdown",
      "metadata": {
        "id": "tsT0CRzsLCG8"
      },
      "source": [
        "# **02. Ridge 회귀를 이용한 성능 확인하기**"
      ]
    },
    {
      "cell_type": "code",
      "metadata": {
        "colab": {
          "base_uri": "https://localhost:8080/"
        },
        "id": "BMziRp3XK8NX",
        "outputId": "a226406f-63f7-4d10-b091-bb4e82379c4b"
      },
      "source": [
        "from sklearn.linear_model import Ridge\r\n",
        "from sklearn.model_selection import train_test_split\r\n",
        "\r\n",
        "X,y = mglearn.datasets.load_extended_boston()\r\n",
        "X_train, X_test, y_train, y_test = train_test_split(X, y, random_state=42)\r\n",
        "ridge = Ridge().fit(X_train, y_train)\r\n",
        "\r\n",
        "print(\"훈련 세트의 정확도 : {:.2f}\".format(ridge.score(X_train,y_train)))\r\n",
        "print(\"테스트 세트의 정확도 : {:.2f}\".format(ridge.score(X_test,y_test)))"
      ],
      "execution_count": null,
      "outputs": [
        {
          "output_type": "stream",
          "text": [
            "훈련 세트의 정확도 : 0.87\n",
            "테스트 세트의 정확도 : 0.81\n"
          ],
          "name": "stdout"
        }
      ]
    },
    {
      "cell_type": "markdown",
      "metadata": {
        "id": "mxWPYp3sLR0W"
      },
      "source": [
        "LinearRegression에 비해 훈련 세트에서는 점수가 낮지만  테스트 세트에 대한 점수는 더 높다!\r\n",
        "\r\n",
        "**위 결과에서 선형 회귀는 이 데이터 셋에서 과대적합되지만 Ridge는 덜 자유로운 모델이기에 과대적합이 적어진다.**\r\n",
        "\r\n",
        "모델의 복잡도가 낮아지면 훈련 세트에서의 성능은 나빠지지만 더 일반화된 모델이 된다. 현재 우리가 눈여겨 보고 있는 것은 훈련 세트가 아닌 테스트 세트이므로 Ridge 모델을 선택해야 한다."
      ]
    },
    {
      "cell_type": "markdown",
      "metadata": {
        "id": "P19RsncILbVw"
      },
      "source": [
        "# **03. alpha값에 따른 일반화 확인하기**"
      ]
    },
    {
      "cell_type": "markdown",
      "metadata": {
        "id": "r9dRAF8vLXi5"
      },
      "source": [
        "Ridge는 모델을 단순하게 해주고 훈련 세트에 대한 성능 사이를 절충할 수 있는 방법을 제공한다.\r\n",
        "\r\n",
        "alpha값을 바꿔보면서 확인해보자."
      ]
    },
    {
      "cell_type": "markdown",
      "metadata": {
        "id": "9970etgVNGRB"
      },
      "source": [
        "alpha 매개변수로 훈련 세트의 성능 대비 모델을 얼마나 단순화할지를 지정할 수 있다!(기본값 alpha=1.0)"
      ]
    },
    {
      "cell_type": "markdown",
      "metadata": {
        "id": "wBytGX1TNEor"
      },
      "source": [
        "alpha값을 높이면 계수를 0에 더 가깝게 만들어 훈련세트의 성능은 나빠지지만 일반화에는 쉬워진다."
      ]
    },
    {
      "cell_type": "code",
      "metadata": {
        "colab": {
          "base_uri": "https://localhost:8080/"
        },
        "id": "YjYGhZVPLK7K",
        "outputId": "07f1dbb9-bc25-4f88-b955-88c0aa3d10fe"
      },
      "source": [
        "ridge10 = Ridge(alpha=10).fit(X_train, y_train)\r\n",
        "\r\n",
        "print(\"훈련 세트의 정확도 : {:.2f}\".format(ridge10.score(X_train,y_train)))\r\n",
        "print(\"테스트 세트의 정확도 : {:.2f}\".format(ridge10.score(X_test,y_test)))"
      ],
      "execution_count": 25,
      "outputs": [
        {
          "output_type": "stream",
          "text": [
            "훈련 세트의 정확도 : 0.77\n",
            "테스트 세트의 정확도 : 0.73\n"
          ],
          "name": "stdout"
        }
      ]
    },
    {
      "cell_type": "markdown",
      "metadata": {
        "id": "7Q-JD59zNXsz"
      },
      "source": [
        "반대로 alpha 값을 줄이면 계수에 대한 제약이 그만큼 풀리면서 LinearRegression으로 만든 모델과 거의 같아진다."
      ]
    },
    {
      "cell_type": "code",
      "metadata": {
        "colab": {
          "base_uri": "https://localhost:8080/"
        },
        "id": "XwGqXCT-M7T3",
        "outputId": "f712f0b2-12e0-48ac-8052-7a3ebd422484"
      },
      "source": [
        "ridge01 = Ridge(alpha=0.1).fit(X_train, y_train)\r\n",
        "\r\n",
        "print(\"훈련 세트의 정확도 : {:.2f}\".format(ridge01.score(X_train,y_train)))\r\n",
        "print(\"테스트 세트의 정확도 : {:.2f}\".format(ridge01.score(X_test,y_test)))"
      ],
      "execution_count": 27,
      "outputs": [
        {
          "output_type": "stream",
          "text": [
            "훈련 세트의 정확도 : 0.92\n",
            "테스트 세트의 정확도 : 0.82\n"
          ],
          "name": "stdout"
        }
      ]
    },
    {
      "cell_type": "markdown",
      "metadata": {
        "id": "_PADluzLNlKr"
      },
      "source": [
        "위 데이터셋의 경우에는 alpha=0.1일때 정확도가 더 높다."
      ]
    },
    {
      "cell_type": "markdown",
      "metadata": {
        "id": "u6p5jJYJN0ch"
      },
      "source": [
        "# **04. alpha값에 따른 coef_ 속성의 변화 확인하기**"
      ]
    },
    {
      "cell_type": "markdown",
      "metadata": {
        "id": "GrVOoVhjN8Yr"
      },
      "source": [
        "alpha값에 따른 coef 속성(w)의 변화를 그래프로 확인해보면 alpha 매개변수가 모델을 어떻게 변경시키는지 이해할 수 있다.\r\n",
        "\r\n",
        "**alpha값이 높으면 제약이 많으므로 작은 값일 때보다 절대값의 크기가 작을 것이다.**(일반화가 쉬워지기 때문에)"
      ]
    },
    {
      "cell_type": "code",
      "metadata": {
        "colab": {
          "base_uri": "https://localhost:8080/",
          "height": 279
        },
        "id": "C9LKiZOYNjPw",
        "outputId": "f9a7d2d0-e74e-48b9-de3e-be14d71e961d"
      },
      "source": [
        "import matplotlib.pyplot as plt\r\n",
        "\r\n",
        "plt.plot(ridge10.coef_,'^',label=\"Ridge a=10\")\r\n",
        "plt.plot(ridge.coef_,'s',label=\"Ridge a=1\")\r\n",
        "plt.plot(ridge01.coef_,'v',label=\"Ridge a=0.1\")\r\n",
        "\r\n",
        "plt.plot(lr.coef_,'v',label=\"Linear Reg\")\r\n",
        "plt.xlabel(\"w list\")\r\n",
        "plt.ylabel(\"w size\")\r\n",
        "plt.hlines(0,0,len(lr.coef_))\r\n",
        "plt.ylim(-25,25)\r\n",
        "plt.legend()\r\n",
        "\r\n",
        "plt.show()"
      ],
      "execution_count": 28,
      "outputs": [
        {
          "output_type": "display_data",
          "data": {
            "image/png": "[encoded data removed]",
            "text/plain": [
              "<Figure size 432x288 with 1 Axes>"
            ]
          },
          "metadata": {
            "tags": [],
            "needs_background": "light"
          }
        }
      ]
    },
    {
      "cell_type": "markdown",
      "metadata": {
        "id": "u5Rb-IspOufm"
      },
      "source": [
        "alpha 값이 커질수록 0에 가까워짐을 확인할 수 있다!"
      ]
    },
    {
      "cell_type": "markdown",
      "metadata": {
        "id": "FA2PfPhaQ2K3"
      },
      "source": [
        "# **05. Lasso 회귀를 이용한 성능 확인하기**"
      ]
    },
    {
      "cell_type": "code",
      "metadata": {
        "id": "a4_aPX0dOPIs",
        "colab": {
          "base_uri": "https://localhost:8080/"
        },
        "outputId": "6816418b-329d-49b1-821c-0716e51c9431"
      },
      "source": [
        "import numpy as np\r\n",
        "from sklearn.model_selection import train_test_split\r\n",
        "from sklearn.linear_model import Lasso\r\n",
        "\r\n",
        "X, y = mglearn.datasets.load_extended_boston()\r\n",
        "X_train, X_test, y_train, y_test = train_test_split(X, y, random_state=0)\r\n",
        "lasso = Lasso().fit(X_train, y_train)\r\n",
        "\r\n",
        "print(\"훈련 세트의 정확도 : {:.2f}\".format(lasso.score(X_train, y_train)))\r\n",
        "print(\"테스트 세트의 정확도 : {:.2f}\".format(lasso.score(X_test, y_test)))\r\n",
        "print(\"사용한 특성의 수 : {}\".format(np.sum(lasso.coef_ != 0)))\r\n",
        "print(\"사용한 max_iter : {}\".format(lasso.n_iter_))"
      ],
      "execution_count": 29,
      "outputs": [
        {
          "output_type": "stream",
          "text": [
            "훈련 세트의 정확도 : 0.29\n",
            "테스트 세트의 정확도 : 0.21\n",
            "사용한 특성의 수 : 4\n",
            "사용한 max_iter : 34\n"
          ],
          "name": "stdout"
        }
      ]
    },
    {
      "cell_type": "markdown",
      "metadata": {
        "id": "p5xa-Rw5RRtE"
      },
      "source": [
        "Lasso는 훈련 세트와 테스트 세트 모두에서 결과가 좋지 않은데, 과소적합으로 104개의 특성 중 4개만 사용한 것을 확인할 수 있다."
      ]
    },
    {
      "cell_type": "markdown",
      "metadata": {
        "id": "0HIg1CbrRdZ_"
      },
      "source": [
        "# **06. alpha값에 따른 라쏘 회귀 성능 확인하기**"
      ]
    },
    {
      "cell_type": "markdown",
      "metadata": {
        "id": "8mLd-itbRwPQ"
      },
      "source": [
        "Ridge와 마찬가지로 Lasso도 계수를 얼마나 강하게 0으로 보낼지 조절하는 alpha 매개변수를 지원한다.\r\n",
        "\r\n",
        "과소적합을 줄이기 위해서 alpha값을 줄여보자.\r\n",
        "이렇게 하려면 max_iter 기본값을 늘려야 한다. (증가시키지 않으면 늘리라는 경고가 나온다.)\r\n"
      ]
    },
    {
      "cell_type": "code",
      "metadata": {
        "colab": {
          "base_uri": "https://localhost:8080/"
        },
        "id": "9nX22Ak0RRDe",
        "outputId": "53946559-cccc-4dbe-b2e2-b640954158b9"
      },
      "source": [
        "lasso001 = Lasso(alpha=0.01, max_iter=100000).fit(X_train, y_train)\r\n",
        "\r\n",
        "print(\"훈련 세트의 정확도 : {:.2f}\".format(lasso001.score(X_train, y_train)))\r\n",
        "print(\"테스트 세트의 정확도 : {:.2f}\".format(lasso001.score(X_test, y_test)))\r\n",
        "print(\"사용한 특성의 수 : {}\".format(np.sum(lasso001.coef_ != 0)))\r\n",
        "print(\"사용한 max_iter : {}\".format(lasso001.n_iter_))"
      ],
      "execution_count": 30,
      "outputs": [
        {
          "output_type": "stream",
          "text": [
            "훈련 세트의 정확도 : 0.90\n",
            "테스트 세트의 정확도 : 0.77\n",
            "사용한 특성의 수 : 33\n",
            "사용한 max_iter : 1886\n"
          ],
          "name": "stdout"
        }
      ]
    },
    {
      "cell_type": "code",
      "metadata": {
        "colab": {
          "base_uri": "https://localhost:8080/"
        },
        "id": "lcRyDGKWRpbB",
        "outputId": "d3d41d52-860e-49be-d401-ff7185553b03"
      },
      "source": [
        "lasso00001 = Lasso(alpha=0.0001, max_iter=100000).fit(X_train, y_train)\r\n",
        "\r\n",
        "print(\"훈련 세트의 정확도 : {:.2f}\".format(lasso00001.score(X_train, y_train)))\r\n",
        "print(\"테스트 세트의 정확도 : {:.2f}\".format(lasso00001.score(X_test, y_test)))\r\n",
        "print(\"사용한 특성의 수 : {}\".format(np.sum(lasso00001.coef_ != 0)))\r\n",
        "print(\"사용한 max_iter : {}\".format(lasso00001.n_iter_))"
      ],
      "execution_count": 31,
      "outputs": [
        {
          "output_type": "stream",
          "text": [
            "훈련 세트의 정확도 : 0.95\n",
            "테스트 세트의 정확도 : 0.64\n",
            "사용한 특성의 수 : 96\n",
            "사용한 max_iter : 41420\n"
          ],
          "name": "stdout"
        }
      ]
    },
    {
      "cell_type": "markdown",
      "metadata": {
        "id": "Z8WZF1XAR77L"
      },
      "source": [
        "alpha값을 작게 할 수록 사용한 특성의 수를 보면 4->33->94개로 증가한것을 보면 된다.\r\n",
        "\r\n",
        "**alpha값을 낮추면 규제의 효과가 없어져 과대적합이 되므로 LinearRegression의 결과와 비슷해진다.**"
      ]
    },
    {
      "cell_type": "markdown",
      "metadata": {
        "id": "FehX2mIMSJjk"
      },
      "source": [
        "# **07. 엘라스틱넷을 이용한 성능 확인하기**"
      ]
    },
    {
      "cell_type": "code",
      "metadata": {
        "colab": {
          "base_uri": "https://localhost:8080/"
        },
        "id": "xSThi7VVRu4j",
        "outputId": "1e47f5aa-344f-4fa9-a3c3-6bb5f7b904f9"
      },
      "source": [
        "import numpy as np\r\n",
        "from sklearn.model_selection import train_test_split\r\n",
        "from sklearn.linear_model import ElasticNet\r\n",
        "\r\n",
        "X, y = mglearn.datasets.load_extended_boston()\r\n",
        "X_train, X_test, y_train, y_test = train_test_split(X, y, random_state=0)\r\n",
        "elastic_net = ElasticNet(alpha=0.1, l1_ratio=0.5).fit(X_train, y_train)\r\n",
        "\r\n",
        "print(\"훈련 세트의 정확도 : {:.2f}\".format(elastic_net.score(X_train, y_train)))\r\n",
        "print(\"테스트 세트의 정확도 : {:.2f}\".format(elastic_net.score(X_test, y_test)))"
      ],
      "execution_count": 33,
      "outputs": [
        {
          "output_type": "stream",
          "text": [
            "훈련 세트의 정확도 : 0.72\n",
            "테스트 세트의 정확도 : 0.55\n"
          ],
          "name": "stdout"
        }
      ]
    },
    {
      "cell_type": "code",
      "metadata": {
        "id": "MpdNxWE8SsQm"
      },
      "source": [
        ""
      ],
      "execution_count": null,
      "outputs": []
    }
  ]
}